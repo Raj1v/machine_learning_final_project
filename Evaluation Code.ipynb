{
 "cells": [
  {
   "cell_type": "code",
   "execution_count": 1,
   "metadata": {},
   "outputs": [],
   "source": [
    "import random\n",
    "from datamatrix import get_init_matrix\n",
    "import KNN\n",
    "import numpy as np"
   ]
  },
  {
   "cell_type": "code",
   "execution_count": 2,
   "metadata": {},
   "outputs": [
    {
     "name": "stdout",
     "output_type": "stream",
     "text": [
      "test\n"
     ]
    }
   ],
   "source": [
    "init_matrix = get_init_matrix()\n",
    "recommender = KNN.KNearestNeighbour(k = 50, sim_treshold = 20, measure = \"cosine\", show = True, mean= True)\n",
    "data = recommender.init_data(init_matrix)"
   ]
  },
  {
   "cell_type": "code",
   "execution_count": 3,
   "metadata": {},
   "outputs": [],
   "source": [
    "def evaluation(init_matrix):\n",
    "    number_of_evaluations = 2\n",
    "    user_IDs_evaluation = random.sample(range(6040), number_of_evaluations)\n",
    "    threshold = 3\n",
    "    \n",
    "    true_positive = 0\n",
    "    false_positive = 0\n",
    "    true_negative = 0\n",
    "    false_negative = 0\n",
    "    \n",
    "    for i in range(number_of_evaluations):\n",
    "        target_user = user_IDs_evaluation[i]\n",
    "        \n",
    "        movie_ID_array = np.arange(1, 3953, 1)\n",
    "        \n",
    "        target_user_movie_ratings = init_matrix[target_user]\n",
    "        target_user_rated_movies = np.vstack((movie_ID_array, target_user_movie_ratings))\n",
    "        \n",
    "        \n",
    "        \n",
    "        target_user_movieID_ratings = []\n",
    "        for j in range(len(movie_ID_array)):\n",
    "            if target_user_rated_movies[1][j] != 0:\n",
    "                target_user_movieID_ratings.append(target_user_rated_movies[0][j])\n",
    "                target_user_movieID_ratings.append(target_user_rated_movies[1][j])\n",
    "        \n",
    "        number_of_evaluated_movies = int(len(target_user_movieID_ratings)*0.2)\n",
    "        \n",
    "        target_user_movieID_ratings = np.array(target_user_movieID_ratings)\n",
    "        target_user_movieID_ratings = target_user_movieID_ratings.reshape(int(len(target_user_movieID_ratings)/2), 2)\n",
    "\n",
    "        target_user_movieID = target_user_movieID_ratings[:,0]\n",
    "        target_movies = random.sample(list(target_user_movieID), number_of_evaluated_movies)\n",
    "        target_movies = np.array(target_movies).astype(int)\n",
    "        print(target_movies)\n",
    "\n",
    "        estimated_target_movie_ratings_normalized = recommender.get_ratings(targetid=target_user, targetmovies=target_movies)\n",
    "\n",
    "        for k in range(len(target_movies)):\n",
    "            if init_matrix[target_user][target_movies[k]] > threshold and estimated_target_movie_ratings[k][1] > thresholdold:\n",
    "                true_positive += 1\n",
    "            elif init_matrix[target_user][target_movies[k]] < threshold and estimated_target_movie_ratings[k][1] > thresholdold:\n",
    "                false_positive += 1\n",
    "            elif init_matrix[target_user][target_movies[k]] > thresholdold and estimated_target_movie_ratings[k][1] < thresholdold:\n",
    "                true_negative += 1\n",
    "            else:\n",
    "                false_negative += 1\n",
    "\n",
    "    recall = (true_positive / (true_positive + true_negative))\n",
    "    precision = (true_positive / (true_positive + false_positive))\n",
    "    accuracy = ((true_positive + false_negative) / (true_negative + true_positive + false_negative + false_positive))\n"
   ]
  },
  {
   "cell_type": "code",
   "execution_count": 4,
   "metadata": {},
   "outputs": [
    {
     "name": "stdout",
     "output_type": "stream",
     "text": [
      "[2448  316 2858 1372  589 2094 1527 1584  318 2393 1590  788  527 2699\n",
      " 2046 1356 1603 2571 1831  608]\n",
      "Shape of targetid_movies (22,) \n",
      "\n",
      "Shape of targetid_ratings (22,) \n",
      "\n",
      "Shape of only_targets (6040, 22) \n",
      "\n",
      "Shape of no_empty_ids (4587, 22) \n",
      "\n",
      "Shape of not_user (4586, 22) \n",
      "\n",
      "Shape of final_matrix is: (0,) \n",
      "\n",
      "Shape of sim_and_id: (0,) \n",
      "\n",
      "Example of sim_and_id is: [] \n",
      "\n"
     ]
    },
    {
     "ename": "IndexError",
     "evalue": "too many indices for array",
     "output_type": "error",
     "traceback": [
      "\u001b[0;31m---------------------------------------------------------------------------\u001b[0m",
      "\u001b[0;31mIndexError\u001b[0m                                Traceback (most recent call last)",
      "\u001b[0;32m<ipython-input-4-7596915e371f>\u001b[0m in \u001b[0;36m<module>\u001b[0;34m\u001b[0m\n\u001b[0;32m----> 1\u001b[0;31m \u001b[0mevaluation\u001b[0m\u001b[0;34m(\u001b[0m\u001b[0minit_matrix\u001b[0m\u001b[0;34m)\u001b[0m\u001b[0;34m\u001b[0m\u001b[0;34m\u001b[0m\u001b[0m\n\u001b[0m",
      "\u001b[0;32m<ipython-input-3-619614614ce1>\u001b[0m in \u001b[0;36mevaluation\u001b[0;34m(init_matrix)\u001b[0m\n\u001b[1;32m     35\u001b[0m         \u001b[0mprint\u001b[0m\u001b[0;34m(\u001b[0m\u001b[0mtarget_movies\u001b[0m\u001b[0;34m)\u001b[0m\u001b[0;34m\u001b[0m\u001b[0;34m\u001b[0m\u001b[0m\n\u001b[1;32m     36\u001b[0m \u001b[0;34m\u001b[0m\u001b[0m\n\u001b[0;32m---> 37\u001b[0;31m         \u001b[0mestimated_target_movie_ratings_normalized\u001b[0m \u001b[0;34m=\u001b[0m \u001b[0mrecommender\u001b[0m\u001b[0;34m.\u001b[0m\u001b[0mget_ratings\u001b[0m\u001b[0;34m(\u001b[0m\u001b[0mtargetid\u001b[0m\u001b[0;34m=\u001b[0m\u001b[0mtarget_user\u001b[0m\u001b[0;34m,\u001b[0m \u001b[0mtargetmovies\u001b[0m\u001b[0;34m=\u001b[0m\u001b[0mtarget_movies\u001b[0m\u001b[0;34m)\u001b[0m\u001b[0;34m\u001b[0m\u001b[0;34m\u001b[0m\u001b[0m\n\u001b[0m\u001b[1;32m     38\u001b[0m \u001b[0;34m\u001b[0m\u001b[0m\n\u001b[1;32m     39\u001b[0m         \u001b[0;32mfor\u001b[0m \u001b[0mk\u001b[0m \u001b[0;32min\u001b[0m \u001b[0mrange\u001b[0m\u001b[0;34m(\u001b[0m\u001b[0mlen\u001b[0m\u001b[0;34m(\u001b[0m\u001b[0mtarget_movies\u001b[0m\u001b[0;34m)\u001b[0m\u001b[0;34m)\u001b[0m\u001b[0;34m:\u001b[0m\u001b[0;34m\u001b[0m\u001b[0;34m\u001b[0m\u001b[0m\n",
      "\u001b[0;32m~/Documents/AUC/Machine Learning/machine_learning_final_project/KNN.py\u001b[0m in \u001b[0;36mget_ratings\u001b[0;34m(self, targetid, targetmovies)\u001b[0m\n\u001b[1;32m    145\u001b[0m \u001b[0;34m\u001b[0m\u001b[0m\n\u001b[1;32m    146\u001b[0m         \u001b[0mself\u001b[0m\u001b[0;34m.\u001b[0m\u001b[0msim_measure\u001b[0m\u001b[0;34m(\u001b[0m\u001b[0;34m)\u001b[0m\u001b[0;34m\u001b[0m\u001b[0;34m\u001b[0m\u001b[0m\n\u001b[0;32m--> 147\u001b[0;31m         \u001b[0mself\u001b[0m\u001b[0;34m.\u001b[0m\u001b[0mget_neighbourhood\u001b[0m\u001b[0;34m(\u001b[0m\u001b[0;34m)\u001b[0m\u001b[0;34m\u001b[0m\u001b[0;34m\u001b[0m\u001b[0m\n\u001b[0m\u001b[1;32m    148\u001b[0m         \u001b[0mself\u001b[0m\u001b[0;34m.\u001b[0m\u001b[0mget_recommendations\u001b[0m\u001b[0;34m(\u001b[0m\u001b[0;34m)\u001b[0m\u001b[0;34m\u001b[0m\u001b[0;34m\u001b[0m\u001b[0m\n\u001b[1;32m    149\u001b[0m \u001b[0;34m\u001b[0m\u001b[0m\n",
      "\u001b[0;32m~/Documents/AUC/Machine Learning/machine_learning_final_project/KNN.py\u001b[0m in \u001b[0;36mget_neighbourhood\u001b[0;34m(self)\u001b[0m\n\u001b[1;32m     92\u001b[0m \u001b[0;34m\u001b[0m\u001b[0m\n\u001b[1;32m     93\u001b[0m         \u001b[0;31m#We define our neighbourhood to be the first k highest sims, with their ID's in the first column\u001b[0m\u001b[0;34m\u001b[0m\u001b[0;34m\u001b[0m\u001b[0;34m\u001b[0m\u001b[0m\n\u001b[0;32m---> 94\u001b[0;31m         \u001b[0msorted_sims\u001b[0m \u001b[0;34m=\u001b[0m \u001b[0mnp\u001b[0m\u001b[0;34m.\u001b[0m\u001b[0mflip\u001b[0m\u001b[0;34m(\u001b[0m\u001b[0mnp\u001b[0m\u001b[0;34m.\u001b[0m\u001b[0margsort\u001b[0m\u001b[0;34m(\u001b[0m\u001b[0msim_and_id\u001b[0m\u001b[0;34m.\u001b[0m\u001b[0mT\u001b[0m\u001b[0;34m[\u001b[0m\u001b[0;36m1\u001b[0m\u001b[0;34m,\u001b[0m \u001b[0;34m:\u001b[0m\u001b[0;34m]\u001b[0m\u001b[0;34m)\u001b[0m\u001b[0;34m)\u001b[0m\u001b[0;34m\u001b[0m\u001b[0;34m\u001b[0m\u001b[0m\n\u001b[0m\u001b[1;32m     95\u001b[0m         \u001b[0mself\u001b[0m\u001b[0;34m.\u001b[0m\u001b[0mneighbourhood\u001b[0m \u001b[0;34m=\u001b[0m \u001b[0msim_and_id\u001b[0m\u001b[0;34m[\u001b[0m\u001b[0msorted_sims\u001b[0m\u001b[0;34m]\u001b[0m\u001b[0;34m[\u001b[0m\u001b[0;34m:\u001b[0m\u001b[0mself\u001b[0m\u001b[0;34m.\u001b[0m\u001b[0mk\u001b[0m\u001b[0;34m]\u001b[0m\u001b[0;34m\u001b[0m\u001b[0;34m\u001b[0m\u001b[0m\n\u001b[1;32m     96\u001b[0m \u001b[0;34m\u001b[0m\u001b[0m\n",
      "\u001b[0;31mIndexError\u001b[0m: too many indices for array"
     ]
    }
   ],
   "source": [
    "evaluation(init_matrix)"
   ]
  }
 ],
 "metadata": {
  "kernelspec": {
   "display_name": "Python 3",
   "language": "python",
   "name": "python3"
  },
  "language_info": {
   "codemirror_mode": {
    "name": "ipython",
    "version": 3
   },
   "file_extension": ".py",
   "mimetype": "text/x-python",
   "name": "python",
   "nbconvert_exporter": "python",
   "pygments_lexer": "ipython3",
   "version": "3.6.8"
  }
 },
 "nbformat": 4,
 "nbformat_minor": 2
}
