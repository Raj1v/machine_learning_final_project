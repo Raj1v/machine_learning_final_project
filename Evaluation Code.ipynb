{
 "cells": [
  {
   "cell_type": "code",
   "execution_count": 1,
   "metadata": {},
   "outputs": [],
   "source": [
    "import random"
   ]
  },
  {
   "cell_type": "code",
   "execution_count": 3,
   "metadata": {},
   "outputs": [],
   "source": [
    "def Evaluation(init_matrix, MovieIdToMovie_Matrix):\n",
    "    number_of_evaluations = 500\n",
    "    user_IDs_evaluation = random.sample(range(6040), number_of_evaluations)\n",
    "    threshold = 3\n",
    "    true_positive = 0\n",
    "    false_positive = 0\n",
    "    true_negative = 0\n",
    "    false_negative = 0\n",
    "    for i in range(number_of_evaluations):\n",
    "        target_user = user_IDs_evaluation[i]\n",
    "        movie_ID_array = np.arange(1, 3953, 1)\n",
    "        target_user_movie_ratings = init_matrix[target_user-1]\n",
    "        target_user_rated_movies = np.vstack((movie_ID_array, target_user_movie_ratings))\n",
    "        number_of_evaluated_movies = int(len(target_user_movieID_ratings)*0.2)\n",
    "        target_user_movieID_ratings = []\n",
    "        for j in range(len(movie_ID_array)):\n",
    "            if target_user_rated_movies[1][j] != 0:\n",
    "                target_user_movieID_ratings.append(target_user_rated_movies[0][j])\n",
    "                target_user_movieID_ratings.append(target_user_rated_movies[1][j])\n",
    "\n",
    "        target_user_movieID_ratings = np.array(target_user_movieID_ratings)\n",
    "        target_user_movieID_ratings = target_user_movieID_ratings.reshape(int(len(target_user_movieID_ratings)/2), 2)\n",
    "\n",
    "        target_user_movieID = target_user_movieID_ratings[:,0]\n",
    "        target_movies = random.sample(list(target_user_movieID), number_of_evaluated_movies)\n",
    "\n",
    "        estimated_target_movie_ratings_normalized = LucasFunction(init_matrix, target_user, target_movies)\n",
    "\n",
    "        for k in range(len(target_movies)):\n",
    "            if Review_Matrix[target_user][target_movies[k]] > threshold and estimated_target_movie_ratings[k][1] > thresholdold:\n",
    "                true_positive += 1\n",
    "            elif Review_Matrix[target_user][target_movies[k]] < threshold and estimated_target_movie_ratings[k][1] > thresholdold:\n",
    "                false_positive += 1\n",
    "            elif Review_Matrix[target_user][target_movies[k]] > thresholdold and estimated_target_movie_ratings[k][1] < thresholdold:\n",
    "                true_negative += 1\n",
    "            else:\n",
    "                false_negative += 1\n",
    "\n",
    "    recall = (true_positive / (true_positive + true_negative))\n",
    "    precision = (true_positive / (true_positive + false_positive))\n",
    "    accuracy = ((true_positive + false_negative) / (true_negative + true_positive + false_negative + false_positive))"
   ]
  },
  {
   "cell_type": "code",
   "execution_count": null,
   "metadata": {},
   "outputs": [],
   "source": []
  }
 ],
 "metadata": {
  "kernelspec": {
   "display_name": "Python 3",
   "language": "python",
   "name": "python3"
  },
  "language_info": {
   "codemirror_mode": {
    "name": "ipython",
    "version": 3
   },
   "file_extension": ".py",
   "mimetype": "text/x-python",
   "name": "python",
   "nbconvert_exporter": "python",
   "pygments_lexer": "ipython3",
   "version": "3.7.3"
  }
 },
 "nbformat": 4,
 "nbformat_minor": 2
}
