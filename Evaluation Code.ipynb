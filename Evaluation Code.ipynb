{
 "cells": [
  {
   "cell_type": "code",
   "execution_count": 1,
   "metadata": {},
   "outputs": [],
   "source": [
    "import random\n",
    "from datamatrix import get_init_matrix\n",
    "from KNN import KNearestNeighbour\n",
    "import numpy as np\n",
    "import matplotlib.pyplot as plt\n",
    "from random_recommendations import RecommendRandom\n",
    "from mean_recommendations import RecommendMean"
   ]
  },
  {
   "cell_type": "code",
   "execution_count": 8,
   "metadata": {},
   "outputs": [],
   "source": [
    "init_matrix = get_init_matrix()\n",
    "\n",
    "recommender6 = RecommendRandom()\n",
    "recommender7 = RecommendMean()\n",
    "\n",
    "recommenders = []\n",
    "for measure in [\"cosine\", \"euclidean\",\"manhattan\",\"correlation\"]:\n",
    "    recommender =  KNearestNeighbour(k = 50, sim_treshold = 0, measure = measure, show = False, mean= True)\n",
    "    recommender.init_data(init_matrix)\n",
    "    recommenders.append([measure, recommender])\n",
    "\n",
    "recommender7.init_data(init_matrix)\n",
    "recommenders.append([\"random\",recommender6])\n",
    "recommenders.append([\"mean\",recommender7])\n"
   ]
  },
  {
   "cell_type": "code",
   "execution_count": 3,
   "metadata": {},
   "outputs": [],
   "source": [
    "def evaluation(init_matrix, recommender):\n",
    "    number_of_evaluations = 10\n",
    "    user_IDs_evaluation = random.sample(range(6040), number_of_evaluations)\n",
    "    threshold = 3\n",
    "    \n",
    "    true_positive = 0\n",
    "    false_positive = 0\n",
    "    true_negative = 0\n",
    "    false_negative = 0\n",
    "    \n",
    "    for i in range(number_of_evaluations):\n",
    "        target_user = user_IDs_evaluation[i]\n",
    "        \n",
    "        movie_ID_array = np.arange(1, 3953, 1)\n",
    "        \n",
    "        target_user_movie_ratings = init_matrix[target_user]\n",
    "        target_user_rated_movies = np.vstack((movie_ID_array, target_user_movie_ratings))\n",
    "           \n",
    "        target_user_movieID_ratings = []\n",
    "        for j in range(len(movie_ID_array)):\n",
    "            if target_user_rated_movies[1][j] != 0:\n",
    "                target_user_movieID_ratings.append(target_user_rated_movies[0][j])\n",
    "                target_user_movieID_ratings.append(target_user_rated_movies[1][j])\n",
    "        \n",
    "        number_of_evaluated_movies = int(len(target_user_movieID_ratings)*0.2)\n",
    "        \n",
    "        target_user_movieID_ratings = np.array(target_user_movieID_ratings)\n",
    "        target_user_movieID_ratings = target_user_movieID_ratings.reshape(int(len(target_user_movieID_ratings)/2), 2)\n",
    "\n",
    "        target_user_movieID = target_user_movieID_ratings[:,0]\n",
    "        target_movies = random.sample(list(target_user_movieID), number_of_evaluated_movies)\n",
    "        target_movies = np.array(target_movies).astype(int)\n",
    "\n",
    "        estimated_target_movie_ratings_normalized = recommender.get_ratings(targetid=target_user, targetmovies=target_movies)\n",
    "\n",
    "        for k in range(len(target_movies)):\n",
    "            if init_matrix[target_user][target_movies[k] - 1] > threshold and estimated_target_movie_ratings_normalized[k][1] > threshold:\n",
    "                true_positive += 1\n",
    "            elif init_matrix[target_user][target_movies[k] - 1] < threshold and estimated_target_movie_ratings_normalized[k][1] > threshold:\n",
    "                false_positive += 1\n",
    "            elif init_matrix[target_user][target_movies[k] - 1] < threshold and estimated_target_movie_ratings_normalized[k][1] < threshold:\n",
    "                true_negative += 1\n",
    "            else:\n",
    "                false_negative += 1\n",
    "                \n",
    "    recall = (true_positive / (true_positive + true_negative))\n",
    "    precision = (true_positive / (true_positive + false_positive))\n",
    "    accuracy = ((true_positive + false_negative) / (true_negative + true_positive + false_negative + false_positive))\n",
    "                \n",
    "    return np.array([recall,precision,accuracy])\n"
   ]
  },
  {
   "cell_type": "code",
   "execution_count": 4,
   "metadata": {},
   "outputs": [],
   "source": [
    "def autolabel(rects):\n",
    "    \"\"\"Attach a text label above each bar in *rects*, displaying its height.\"\"\"\n",
    "    for rect in rects:\n",
    "        height = rect.get_height()"
   ]
  },
  {
   "cell_type": "code",
   "execution_count": 9,
   "metadata": {},
   "outputs": [
    {
     "name": "stdout",
     "output_type": "stream",
     "text": [
      "['cosine', <KNN.KNearestNeighbour object at 0x000001BAC0ED2CF8>]\n",
      "['euclidean', <KNN.KNearestNeighbour object at 0x000001BAC0ED2D68>]\n",
      "['manhattan', <KNN.KNearestNeighbour object at 0x000001BAC0ED2A58>]\n",
      "['correlation', <KNN.KNearestNeighbour object at 0x000001BAC0FDBB70>]\n",
      "['random', <random_recommendations.RecommendRandom object at 0x000001BAC0ED2C50>]\n",
      "['mean', <mean_recommendations.RecommendMean object at 0x000001BAC0ED2C88>]\n"
     ]
    },
    {
     "data": {
      "image/png": "[encoded data removed]",
      "text/plain": [
       "<Figure size 432x288 with 1 Axes>"
      ]
     },
     "metadata": {
      "needs_background": "light"
     },
     "output_type": "display_data"
    }
   ],
   "source": [
    "\n",
    "labels = []\n",
    "recalls = []\n",
    "precisions = []\n",
    "accuracys = []\n",
    "for test in recommenders:\n",
    "    print(test)\n",
    "    results = evaluation(init_matrix, test[1])\n",
    "    rec,prec,acc = results\n",
    "    labels.append(test[0])\n",
    "    recalls.append(rec)\n",
    "    precisions.append(prec)\n",
    "    accuracys.append(acc)\n",
    "\n",
    "x = np.arange(len(labels))  # the label locations\n",
    "width = 0.15  # the width of the bars\n",
    "\n",
    "fig, ax = plt.subplots() \n",
    "rects1 = ax.bar(x - width , recalls, width, label='Recall')\n",
    "rects2 = ax.bar(x, precisions, width, label='Precision')\n",
    "rects3 = ax.bar(x + width, accuracys, width, label='Accuracy')\n",
    "\n",
    "ax.set_ylabel('Scores')\n",
    "ax.set_title('Scores by measurement technique')\n",
    "ax.set_xticks(x)\n",
    "ax.set_xticklabels(labels)\n",
    "ax.legend()\n",
    "\n",
    "autolabel(rects1)\n",
    "autolabel(rects2)\n",
    "autolabel(rects3)\n",
    "\n",
    "fig.tight_layout()\n",
    "plt.show()\n",
    "        "
   ]
  },
  {
   "cell_type": "code",
   "execution_count": null,
   "metadata": {},
   "outputs": [],
   "source": []
  }
 ],
 "metadata": {
  "kernelspec": {
   "display_name": "Python 3",
   "language": "python",
   "name": "python3"
  },
  "language_info": {
   "codemirror_mode": {
    "name": "ipython",
    "version": 3
   },
   "file_extension": ".py",
   "mimetype": "text/x-python",
   "name": "python",
   "nbconvert_exporter": "python",
   "pygments_lexer": "ipython3",
   "version": "3.7.0"
  }
 },
 "nbformat": 4,
 "nbformat_minor": 2
}
