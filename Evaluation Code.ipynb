{
 "cells": [
  {
   "cell_type": "code",
   "execution_count": 43,
   "metadata": {},
   "outputs": [],
   "source": [
    "import random\n",
    "from datamatrix import get_init_matrix\n",
    "from KNN import KNearestNeighbour\n",
    "import numpy as np"
   ]
  },
  {
   "cell_type": "code",
   "execution_count": 44,
   "metadata": {},
   "outputs": [],
   "source": [
    "init_matrix = get_init_matrix()\n",
    "recommender = KNearestNeighbour(k = 50, sim_treshold = 20, measure = \"cosine\", show = True, mean= True)\n",
    "data = recommender.init_data(init_matrix)"
   ]
  },
  {
   "cell_type": "code",
   "execution_count": 45,
   "metadata": {},
   "outputs": [],
   "source": [
    "def evaluation(init_matrix):\n",
    "    number_of_evaluations = 500\n",
    "    user_IDs_evaluation = random.sample(range(6040), number_of_evaluations)\n",
    "    threshold = 3\n",
    "    \n",
    "    true_positive = 0\n",
    "    false_positive = 0\n",
    "    true_negative = 0\n",
    "    false_negative = 0\n",
    "    \n",
    "    for i in range(number_of_evaluations):\n",
    "        target_user = user_IDs_evaluation[i]\n",
    "        \n",
    "        movie_ID_array = np.arange(1, 3953, 1)\n",
    "        \n",
    "        target_user_movie_ratings = init_matrix[target_user]\n",
    "        target_user_rated_movies = np.vstack((movie_ID_array, target_user_movie_ratings))\n",
    "        \n",
    "        \n",
    "        \n",
    "        target_user_movieID_ratings = []\n",
    "        for j in range(len(movie_ID_array)):\n",
    "            if target_user_rated_movies[1][j] != 0:\n",
    "                target_user_movieID_ratings.append(target_user_rated_movies[0][j])\n",
    "                target_user_movieID_ratings.append(target_user_rated_movies[1][j])\n",
    "        \n",
    "        number_of_evaluated_movies = int(len(target_user_movieID_ratings)*0.2)\n",
    "        \n",
    "        target_user_movieID_ratings = np.array(target_user_movieID_ratings)\n",
    "        target_user_movieID_ratings = target_user_movieID_ratings.reshape(int(len(target_user_movieID_ratings)/2), 2)\n",
    "\n",
    "        target_user_movieID = target_user_movieID_ratings[:,0]\n",
    "        target_movies = random.sample(list(target_user_movieID), number_of_evaluated_movies)\n",
    "        target_movies = np.array(target_movies).astype(int)\n",
    "        print(target_movies)\n",
    "\n",
    "        estimated_target_movie_ratings_normalized = recommender.get_ratings(targetid=target_user, targetmovies=target_movies)\n",
    "\n",
    "        for k in range(len(target_movies)):\n",
    "            if init_matrix[target_user][target_movies[k]] > threshold and estimated_target_movie_ratings[k][1] > thresholdold:\n",
    "                true_positive += 1\n",
    "            elif init_matrix[target_user][target_movies[k]] < threshold and estimated_target_movie_ratings[k][1] > thresholdold:\n",
    "                false_positive += 1\n",
    "            elif init_matrix[target_user][target_movies[k]] > thresholdold and estimated_target_movie_ratings[k][1] < thresholdold:\n",
    "                true_negative += 1\n",
    "            else:\n",
    "                false_negative += 1\n",
    "\n",
    "    recall = (true_positive / (true_positive + true_negative))\n",
    "    precision = (true_positive / (true_positive + false_positive))\n",
    "    accuracy = ((true_positive + false_negative) / (true_negative + true_positive + false_negative + false_positive))\n"
   ]
  },
  {
   "cell_type": "code",
   "execution_count": 46,
   "metadata": {},
   "outputs": [
    {
     "name": "stdout",
     "output_type": "stream",
     "text": [
      "[2171  549 1198 2289 2759 3160 2427  246]\n",
      "Shape of targetid_movies (220,) \n",
      "\n",
      "Shape of targetid_ratings (220,) \n",
      "\n",
      "Shape of only_targets (6040, 220) \n",
      "\n",
      "Shape of no_empty_ids (6018, 220) \n",
      "\n",
      "Shape of not_user (6017, 220) \n",
      "\n",
      "Shape of final_matrix is: (3084, 220) \n",
      "\n",
      "Shape of sim_and_id: (3084, 2) \n",
      "\n",
      "Example of sim_and_id is: [[ 2.00000000e+00 -1.38423869e-03]\n",
      " [ 5.00000000e+00  3.84040200e-01]\n",
      " [ 8.00000000e+00  4.19118419e-01]\n",
      " [ 9.00000000e+00  1.00618824e-01]\n",
      " [ 1.00000000e+01  1.22485235e-01]] \n",
      "\n",
      "Targetuser has these ratings:  [ 0.          0.          0.          0.          0.         -1.44748858\n",
      "  0.          0.        ] \n",
      "\n",
      "top_k_users has shape:  (50,) \n",
      "\n",
      "neighbour_ratings[:5] looks like:  [[ 0.          0.          0.          0.          0.          0.5\n",
      "   0.          0.        ]\n",
      " [ 0.          0.          1.24522293  0.          0.          0.\n",
      "   0.          0.        ]\n",
      " [ 0.          0.          0.          0.          0.          0.\n",
      "   0.          0.        ]\n",
      " [ 0.          0.          0.          0.          0.          0.\n",
      "   0.          0.        ]\n",
      " [ 0.          0.          0.51002865 -0.48997135  0.          0.51002865\n",
      "  -0.48997135 -0.48997135]] \n",
      "\n",
      "-0.061567778552077734 1.8084840832456286\n",
      "0 0\n"
     ]
    },
    {
     "ename": "ZeroDivisionError",
     "evalue": "division by zero",
     "output_type": "error",
     "traceback": [
      "\u001b[0;31m---------------------------------------------------------------------------\u001b[0m",
      "\u001b[0;31mZeroDivisionError\u001b[0m                         Traceback (most recent call last)",
      "\u001b[0;32m<ipython-input-46-7596915e371f>\u001b[0m in \u001b[0;36m<module>\u001b[0;34m\u001b[0m\n\u001b[0;32m----> 1\u001b[0;31m \u001b[0mevaluation\u001b[0m\u001b[0;34m(\u001b[0m\u001b[0minit_matrix\u001b[0m\u001b[0;34m)\u001b[0m\u001b[0;34m\u001b[0m\u001b[0;34m\u001b[0m\u001b[0m\n\u001b[0m",
      "\u001b[0;32m<ipython-input-45-7ab6bb975d56>\u001b[0m in \u001b[0;36mevaluation\u001b[0;34m(init_matrix)\u001b[0m\n\u001b[1;32m     35\u001b[0m         \u001b[0mprint\u001b[0m\u001b[0;34m(\u001b[0m\u001b[0mtarget_movies\u001b[0m\u001b[0;34m)\u001b[0m\u001b[0;34m\u001b[0m\u001b[0;34m\u001b[0m\u001b[0m\n\u001b[1;32m     36\u001b[0m \u001b[0;34m\u001b[0m\u001b[0m\n\u001b[0;32m---> 37\u001b[0;31m         \u001b[0mestimated_target_movie_ratings_normalized\u001b[0m \u001b[0;34m=\u001b[0m \u001b[0mrecommender\u001b[0m\u001b[0;34m.\u001b[0m\u001b[0mget_ratings\u001b[0m\u001b[0;34m(\u001b[0m\u001b[0mtargetid\u001b[0m\u001b[0;34m=\u001b[0m\u001b[0mtarget_user\u001b[0m\u001b[0;34m,\u001b[0m \u001b[0mtargetmovies\u001b[0m\u001b[0;34m=\u001b[0m\u001b[0mtarget_movies\u001b[0m\u001b[0;34m)\u001b[0m\u001b[0;34m\u001b[0m\u001b[0;34m\u001b[0m\u001b[0m\n\u001b[0m\u001b[1;32m     38\u001b[0m \u001b[0;34m\u001b[0m\u001b[0m\n\u001b[1;32m     39\u001b[0m         \u001b[0;32mfor\u001b[0m \u001b[0mk\u001b[0m \u001b[0;32min\u001b[0m \u001b[0mrange\u001b[0m\u001b[0;34m(\u001b[0m\u001b[0mlen\u001b[0m\u001b[0;34m(\u001b[0m\u001b[0mtarget_movies\u001b[0m\u001b[0;34m)\u001b[0m\u001b[0;34m)\u001b[0m\u001b[0;34m:\u001b[0m\u001b[0;34m\u001b[0m\u001b[0;34m\u001b[0m\u001b[0m\n",
      "\u001b[0;32m~/Documents/AUC/Machine Learning/machine_learning_final_project/KNN.py\u001b[0m in \u001b[0;36mget_ratings\u001b[0;34m(self, targetid, targetmovies)\u001b[0m\n\u001b[1;32m    135\u001b[0m \u001b[0;34m\u001b[0m\u001b[0m\n\u001b[1;32m    136\u001b[0m \u001b[0;34m\u001b[0m\u001b[0m\n\u001b[0;32m--> 137\u001b[0;31m         \u001b[0mself\u001b[0m\u001b[0;34m.\u001b[0m\u001b[0msim_measure\u001b[0m\u001b[0;34m(\u001b[0m\u001b[0;34m)\u001b[0m\u001b[0;34m\u001b[0m\u001b[0;34m\u001b[0m\u001b[0m\n\u001b[0m\u001b[1;32m    138\u001b[0m         \u001b[0mself\u001b[0m\u001b[0;34m.\u001b[0m\u001b[0mget_neighbourhood\u001b[0m\u001b[0;34m(\u001b[0m\u001b[0;34m)\u001b[0m\u001b[0;34m\u001b[0m\u001b[0;34m\u001b[0m\u001b[0m\n\u001b[1;32m    139\u001b[0m         \u001b[0mself\u001b[0m\u001b[0;34m.\u001b[0m\u001b[0mget_recommendations\u001b[0m\u001b[0;34m(\u001b[0m\u001b[0;34m)\u001b[0m\u001b[0;34m\u001b[0m\u001b[0;34m\u001b[0m\u001b[0m\n",
      "\u001b[0;32m~/Documents/AUC/Machine Learning/machine_learning_final_project/KNN.py\u001b[0m in \u001b[0;36mget_recommendations\u001b[0;34m(self)\u001b[0m\n\u001b[1;32m    115\u001b[0m             \u001b[0musers_rated\u001b[0m \u001b[0;34m=\u001b[0m \u001b[0mnp\u001b[0m\u001b[0;34m.\u001b[0m\u001b[0mwhere\u001b[0m\u001b[0;34m(\u001b[0m\u001b[0mmovie\u001b[0m \u001b[0;34m!=\u001b[0m\u001b[0;36m0\u001b[0m\u001b[0;34m)\u001b[0m\u001b[0;34m[\u001b[0m\u001b[0;36m0\u001b[0m\u001b[0;34m]\u001b[0m\u001b[0;34m\u001b[0m\u001b[0;34m\u001b[0m\u001b[0m\n\u001b[1;32m    116\u001b[0m             \u001b[0msims_users\u001b[0m \u001b[0;34m=\u001b[0m \u001b[0mself\u001b[0m\u001b[0;34m.\u001b[0m\u001b[0mneighbourhood\u001b[0m\u001b[0;34m.\u001b[0m\u001b[0mT\u001b[0m\u001b[0;34m[\u001b[0m\u001b[0;36m1\u001b[0m\u001b[0;34m]\u001b[0m\u001b[0;34m[\u001b[0m\u001b[0musers_rated\u001b[0m\u001b[0;34m]\u001b[0m\u001b[0;34m\u001b[0m\u001b[0;34m\u001b[0m\u001b[0m\n\u001b[0;32m--> 117\u001b[0;31m             \u001b[0mweighted_scores\u001b[0m \u001b[0;34m=\u001b[0m \u001b[0mmovie\u001b[0m\u001b[0;34m[\u001b[0m\u001b[0musers_rated\u001b[0m\u001b[0;34m]\u001b[0m \u001b[0;34m*\u001b[0m \u001b[0msims_users\u001b[0m\u001b[0;34m\u001b[0m\u001b[0;34m\u001b[0m\u001b[0m\n\u001b[0m\u001b[1;32m    118\u001b[0m             \u001b[0mprint\u001b[0m\u001b[0;34m(\u001b[0m\u001b[0msum\u001b[0m\u001b[0;34m(\u001b[0m\u001b[0mweighted_scores\u001b[0m\u001b[0;34m)\u001b[0m\u001b[0;34m,\u001b[0m\u001b[0msum\u001b[0m\u001b[0;34m(\u001b[0m\u001b[0msims_users\u001b[0m\u001b[0;34m)\u001b[0m\u001b[0;34m)\u001b[0m\u001b[0;34m\u001b[0m\u001b[0;34m\u001b[0m\u001b[0m\n\u001b[1;32m    119\u001b[0m             \u001b[0mpredict\u001b[0m \u001b[0;34m=\u001b[0m \u001b[0msum\u001b[0m\u001b[0;34m(\u001b[0m\u001b[0mweighted_scores\u001b[0m\u001b[0;34m)\u001b[0m \u001b[0;34m/\u001b[0m \u001b[0msum\u001b[0m\u001b[0;34m(\u001b[0m\u001b[0msims_users\u001b[0m\u001b[0;34m)\u001b[0m\u001b[0;34m\u001b[0m\u001b[0;34m\u001b[0m\u001b[0m\n",
      "\u001b[0;31mZeroDivisionError\u001b[0m: division by zero"
     ]
    }
   ],
   "source": [
    "evaluation(init_matrix)"
   ]
  },
  {
   "cell_type": "code",
   "execution_count": null,
   "metadata": {},
   "outputs": [],
   "source": []
  }
 ],
 "metadata": {
  "kernelspec": {
   "display_name": "Python 3",
   "language": "python",
   "name": "python3"
  },
  "language_info": {
   "codemirror_mode": {
    "name": "ipython",
    "version": 3
   },
   "file_extension": ".py",
   "mimetype": "text/x-python",
   "name": "python",
   "nbconvert_exporter": "python",
   "pygments_lexer": "ipython3",
   "version": "3.6.8"
  }
 },
 "nbformat": 4,
 "nbformat_minor": 2
}
