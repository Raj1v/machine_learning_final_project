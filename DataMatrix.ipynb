{
 "cells": [
  {
   "cell_type": "code",
   "execution_count": null,
   "metadata": {},
   "outputs": [],
   "source": [
    "# import math\n",
    "\n",
    "from itertools import product, combinations\n",
    "from operator import itemgetter\n",
    "from collections import defaultdict\n",
    "\n",
    "import numpy as np\n",
    "import pandas as pd\n",
    "from pandas.compat import StringIO\n",
    "\n",
    "from scipy.spatial import distance\n",
    "from sklearn.metrics import mean_absolute_error"
   ]
  },
  {
   "cell_type": "markdown",
   "metadata": {},
   "source": [
    "Here we import the movies.dat file, where we have a twodimensional matrix with all MovieID's and corresponding names"
   ]
  },
  {
   "cell_type": "code",
   "execution_count": 2,
   "metadata": {},
   "outputs": [],
   "source": [
    "lo_MovieId = []\n",
    "lo_movie = []\n",
    "\n",
    "with open(\"data/ml-1m/movies.dat\", \"r\", encoding='windows-1252') as infile:\n",
    "    for line in infile:\n",
    "        movieId, movie, _ = line.split(\"::\")\n",
    "        lo_MovieId.append(movieId)\n",
    "        lo_movie.append(movie)\n",
    "\n",
    "arr_MovieId = np.array(lo_MovieId)[:, np.newaxis]\n",
    "arr_movie = np.array(lo_movie)[:, np.newaxis]\n",
    "MovieId2movie = np.concatenate((arr_MovieId, arr_movie), axis=1)"
   ]
  },
  {
   "cell_type": "markdown",
   "metadata": {},
   "source": [
    "First we import ratings.dat and put it in a dictionary"
   ]
  },
  {
   "cell_type": "code",
   "execution_count": 6,
   "metadata": {},
   "outputs": [],
   "source": [
    "user2movies_ratings = defaultdict(dict)\n",
    "los_movieId = []\n",
    "\n",
    "with open(\"data/ml-1m/ratings.dat\", \"r\", encoding='utf-8') as infile:\n",
    "    for line in infile:\n",
    "        userId, movieId, rating = [int(el) for el in line.split(\"::\")[:3]]\n",
    "        user2movies_ratings[userId][movieId] = rating\n",
    "        los_movieId.append(movieId)\n",
    "\n",
    "max_movieId = max(los_movieId)"
   ]
  },
  {
   "cell_type": "markdown",
   "metadata": {},
   "source": [
    "Then we transform it into a data matrix where all users rate all movies, movies that are not rated get a value of 0.\n",
    "This matrix is called the init_matrix"
   ]
  },
  {
   "cell_type": "code",
   "execution_count": 4,
   "metadata": {},
   "outputs": [],
   "source": [
    "len_users = len(user2movies_ratings)\n",
    "len_movies = max_movieId\n",
    "\n",
    "# Jasper, dit is de data matrix: init_matrix\n",
    "init_matrix = np.zeros((len_users,len_movies))\n",
    "\n",
    "#Hier kijk ik of het voor mij makkelijk is als ik aan deze matrix nog twee colommen toevoeg met de user id en hun mean score\n",
    "#Ik weet nog niet zeker of ik dat ook zo ga gebruiken, maar zo ja dan doe ik dat in mijn code wel\n",
    "for user in user2movies_ratings:\n",
    "    for movie in user2movies_ratings[user]:\n",
    "        review = user2movies_ratings[user][movie]\n",
    "        init_matrix[user-1, movie-1] = review\n",
    "\n",
    "all_id_means =[]\n",
    "for i in range(len_users):\n",
    "    all_id_means.append([i+1, init_matrix[i][init_matrix[i] != 0].mean()])\n",
    "    \n",
    "arridmeans = np.array(all_id_means)\n",
    "\n",
    "matrix_and_means = np.hstack((arridmeans,init_matrix))"
   ]
  },
  {
   "cell_type": "code",
   "execution_count": 5,
   "metadata": {},
   "outputs": [
    {
     "name": "stdout",
     "output_type": "stream",
     "text": [
      "[[1.         4.18867925 5.         ... 0.         0.         0.        ]\n",
      " [2.         3.71317829 0.         ... 0.         0.         0.        ]\n",
      " [3.         3.90196078 0.         ... 0.         0.         0.        ]\n",
      " [4.         4.19047619 0.         ... 0.         0.         0.        ]\n",
      " [5.         3.14646465 0.         ... 0.         0.         0.        ]]\n"
     ]
    }
   ],
   "source": [
    "print(matrix_and_means[:5])"
   ]
  }
 ],
 "metadata": {
  "kernelspec": {
   "display_name": "Python 3",
   "language": "python",
   "name": "python3"
  },
  "language_info": {
   "codemirror_mode": {
    "name": "ipython",
    "version": 3
   },
   "file_extension": ".py",
   "mimetype": "text/x-python",
   "name": "python",
   "nbconvert_exporter": "python",
   "pygments_lexer": "ipython3",
   "version": "3.7.0"
  }
 },
 "nbformat": 4,
 "nbformat_minor": 2
}
